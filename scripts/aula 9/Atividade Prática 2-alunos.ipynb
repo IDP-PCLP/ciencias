{
 "cells": [
  {
   "cell_type": "markdown",
   "id": "8cd0e15e",
   "metadata": {},
   "source": [
    "# Dados, bancos de dados e APIs\n",
    "\n",
    "Vimos como podemos obter nossos dados a partir de arquivos de texto e planilhas, mas a maior parte dos dados existentes está armazenada em bancos de dados. Esses dados são obtidos através de uma conexão com o banco de dados e a realização de consultas ou queries. Existem linguagens específicas para realizar essas consultas, como SQL, a Structured Query Language, que lida com bancos de dados relacionais.\n",
    "\n",
    "## Acessando bancos de dados pelo Python com ORMs\n",
    "\n",
    "Vamos ver como podemos fazer essas consultas utilizando ORM, ou Object Relational Mappers, bibliotecas que permitem a realização dessas consultas através de funções Python.\n",
    "\n",
    "## Obtendo dados da internet através de APIs\n",
    "\n",
    "Outra forma de obter dados dos bancos de dados é através de APIs, Application Programming Interfaces, que são vias de acesso a dados através da internet. A maior parte dessas APIs é acessada através de simples pedidos (requests) e respostas (responses).\n",
    "\n",
    "### Pandas Data Reader\n",
    "\n",
    "Essa é uma biblioteca interessante que nos dá acesso a uma API chamada Yahoo Finance. Essa API é capaz de obter valores sobre ações de empresas de capital aberto, ou seja, empresas cujas ações estão no mercado público de ações. \n",
    "\n",
    "Para obter a informação, precisamos utilizar seu símbolo no mercado, que podemos obter através desse link da NASDAQ: https://api.nasdaq.com/api/screener/stocks?tableonly=true&limit=25&offset=0&download=true\n",
    "\n",
    "Para obter os dados, vamos utilizar a biblioteca pandas_datareader, por onde acessaremos a API."
   ]
  },
  {
   "cell_type": "code",
   "execution_count": null,
   "id": "da81be50",
   "metadata": {},
   "outputs": [],
   "source": [
    "import pandas_datareader.data as web\n",
    "import pandas as pd\n",
    "import datetime   # Vamos utilizar para lidar com datas\n",
    "import numpy as np # Vamos utilizar para representar vetores\n",
    "import matplotlib.pyplot as plt # Essa é uma biblioteca de visualização\n",
    "from sklearn.linear_model import LinearRegression # Vamos utilizar para fazer regressões lineares"
   ]
  },
  {
   "cell_type": "code",
   "execution_count": null,
   "id": "3078e691",
   "metadata": {},
   "outputs": [],
   "source": [
    "nomes = web.get_nasdaq_symbols()\n",
    "nomes"
   ]
  },
  {
   "cell_type": "code",
   "execution_count": null,
   "id": "341c7c4e",
   "metadata": {},
   "outputs": [],
   "source": [
    "empresas = pd.read_csv('symbols.csv')\n",
    "empresas"
   ]
  },
  {
   "cell_type": "code",
   "execution_count": null,
   "id": "b8f67642",
   "metadata": {},
   "outputs": [],
   "source": [
    "def obter_stock(empresa,start,end):\n",
    "    df = web.DataReader(empresa, 'yahoo', start, end)\n",
    "    return df['Adj Close']"
   ]
  },
  {
   "cell_type": "code",
   "execution_count": null,
   "id": "85780239",
   "metadata": {},
   "outputs": [],
   "source": [
    "start = datetime.datetime(2020, 9, 7)\n",
    "end = datetime.datetime(2022, 9, 8)\n",
    "empresa = 'ABEV'\n",
    "dados = pd.DataFrame()\n",
    "dados[empresa] = pd.DataFrame(obter_stock(empresa,start,end))\n",
    "dados"
   ]
  },
  {
   "cell_type": "code",
   "execution_count": null,
   "id": "0385dfd4",
   "metadata": {},
   "outputs": [],
   "source": [
    "# Salvando em arquivos\n",
    "# Excel\n",
    "# CSV\n",
    "# JSON"
   ]
  },
  {
   "cell_type": "code",
   "execution_count": null,
   "id": "814231cf",
   "metadata": {},
   "outputs": [],
   "source": [
    "# Visualização\n",
    "## Séries históricas"
   ]
  },
  {
   "cell_type": "code",
   "execution_count": null,
   "id": "94c73db2",
   "metadata": {},
   "outputs": [],
   "source": [
    "## Correlação"
   ]
  },
  {
   "cell_type": "code",
   "execution_count": null,
   "id": "0eb78d69",
   "metadata": {},
   "outputs": [],
   "source": [
    "# Como podemos prever um próximo resultado?"
   ]
  },
  {
   "cell_type": "code",
   "execution_count": null,
   "id": "44b290a7",
   "metadata": {},
   "outputs": [],
   "source": []
  },
  {
   "cell_type": "code",
   "execution_count": null,
   "id": "f509440e",
   "metadata": {},
   "outputs": [],
   "source": [
    "# Encontre duas empresas com correlação absoluta maior que 0.5"
   ]
  },
  {
   "cell_type": "code",
   "execution_count": null,
   "id": "dcf4b019",
   "metadata": {},
   "outputs": [],
   "source": []
  },
  {
   "cell_type": "code",
   "execution_count": null,
   "id": "22a15cc9",
   "metadata": {},
   "outputs": [],
   "source": [
    "# Vamos obter as regressões para duas empresas com correlação maior que 0.5\n",
    "# Como podemos prever um próximo resultado?\n"
   ]
  },
  {
   "cell_type": "code",
   "execution_count": null,
   "id": "57ea6cd1",
   "metadata": {},
   "outputs": [],
   "source": [
    "# E correlação maior que 0.9?"
   ]
  },
  {
   "cell_type": "code",
   "execution_count": null,
   "id": "963366e6",
   "metadata": {},
   "outputs": [],
   "source": [
    "# Vamos obter as regressões para duas empresas com correlação maior que 0.9\n",
    "# Como podemos prever um próximo resultado?"
   ]
  },
  {
   "cell_type": "code",
   "execution_count": null,
   "id": "f3b60967",
   "metadata": {},
   "outputs": [],
   "source": []
  }
 ],
 "metadata": {
  "kernelspec": {
   "display_name": "Python 3 (ipykernel)",
   "language": "python",
   "name": "python3"
  },
  "language_info": {
   "codemirror_mode": {
    "name": "ipython",
    "version": 3
   },
   "file_extension": ".py",
   "mimetype": "text/x-python",
   "name": "python",
   "nbconvert_exporter": "python",
   "pygments_lexer": "ipython3",
   "version": "3.9.7"
  }
 },
 "nbformat": 4,
 "nbformat_minor": 5
}

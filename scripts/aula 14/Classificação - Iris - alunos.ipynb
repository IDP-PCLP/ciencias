{
 "cells": [
  {
   "cell_type": "markdown",
   "id": "e6a9e19a",
   "metadata": {},
   "source": [
    "# O Conjunto de Dados Iris \n",
    "\n",
    "Em 1988, o pesquisador R.A. Fisher publicou um artigo contendo um conjunto de dados que descreve medições realizadas em três classes de plantas Iris. Esse conjunto de dados possui 50 elementos de cada classe de planta e quatro atributos de cada observação, o comprimento e largura da pétala e da sépala. Com essas medições, é possível realizar a separação dos grupos, o que faz desse um conjunto especialmente conveniente para estudar tanto classificação quanto agrupamento. "
   ]
  },
  {
   "cell_type": "code",
   "execution_count": null,
   "id": "d39c1afa",
   "metadata": {},
   "outputs": [],
   "source": [
    "# Podemos importar o conjunto de dados pela função load_iris() do módulo datasets do sklearn\n",
    "from sklearn import datasets\n",
    "\n",
    "iris = datasets.load_iris()"
   ]
  },
  {
   "cell_type": "code",
   "execution_count": null,
   "id": "365250a8",
   "metadata": {},
   "outputs": [],
   "source": [
    "# O objeto que obtemos pode ser acessado como um dicionário\n",
    "# Para obter uma descrição em texto do conjunto de dados, \n",
    "# acesse o texto que está na chave DESCR da variável iris.\n"
   ]
  },
  {
   "cell_type": "code",
   "execution_count": null,
   "id": "1872eb08",
   "metadata": {},
   "outputs": [],
   "source": [
    "# Para saber a ordem que os atributos estão, as colunas\n",
    "# estão em formato de lista na variável feature_names \n",
    "# da variável iris\n"
   ]
  },
  {
   "cell_type": "code",
   "execution_count": null,
   "id": "d6ef6ae7",
   "metadata": {},
   "outputs": [],
   "source": [
    "# Da mesma forma, os rótulos estão salvos como números\n",
    "# em target, então os nomes dos rótulos estão em target_names\n"
   ]
  },
  {
   "cell_type": "code",
   "execution_count": null,
   "id": "e381e2a8",
   "metadata": {},
   "outputs": [],
   "source": [
    "# Obtenha o target\n"
   ]
  },
  {
   "cell_type": "code",
   "execution_count": null,
   "id": "7b3dcb48",
   "metadata": {},
   "outputs": [],
   "source": [
    "# Podemos fazer um DataFrame com os atributos e os rótulos\n",
    "# para estudar o conjunto de dados mais a fundo.\n",
    "import pandas as pd\n",
    "dados = pd.DataFrame(iris.data,columns=iris.feature_names)\n",
    "# Para os rótulos, vamos fazer um dicionários para substituir facilmente\n",
    "target_ = {0:'setosa', 1:'versicolor', 2:'virginica'}\n",
    "dados['target'] = [target_[i] for i in iris.target]\n",
    "dados.head()"
   ]
  },
  {
   "cell_type": "code",
   "execution_count": null,
   "id": "c68060ac",
   "metadata": {},
   "outputs": [],
   "source": [
    "# Vamos obter mais informações com a função info()\n"
   ]
  },
  {
   "cell_type": "code",
   "execution_count": null,
   "id": "06debdac",
   "metadata": {},
   "outputs": [],
   "source": [
    "# Vamos obter uma análise descritiva\n"
   ]
  },
  {
   "cell_type": "code",
   "execution_count": null,
   "id": "974efc34",
   "metadata": {},
   "outputs": [],
   "source": [
    "# Vamos também agrupar pelos rótulos\n"
   ]
  },
  {
   "cell_type": "code",
   "execution_count": null,
   "id": "9198b078",
   "metadata": {},
   "outputs": [],
   "source": [
    "dados.plot.scatter(x='sepal length (cm)',y='sepal width (cm)')"
   ]
  },
  {
   "cell_type": "code",
   "execution_count": null,
   "id": "3bf0ba1c",
   "metadata": {},
   "outputs": [],
   "source": [
    "import seaborn as sns\n",
    "import matplotlib.pyplot as plt\n",
    "\n",
    "sns.FacetGrid(dados, hue=\"target\", palette=\"husl\", height=5).map(plt.scatter, \"sepal length (cm)\", \"sepal width (cm)\").add_legend()"
   ]
  },
  {
   "cell_type": "code",
   "execution_count": null,
   "id": "3244a943",
   "metadata": {},
   "outputs": [],
   "source": [
    "# Vamos construir os conjuntos de dados para a classificação\n"
   ]
  },
  {
   "cell_type": "code",
   "execution_count": null,
   "id": "1fb50acd",
   "metadata": {},
   "outputs": [],
   "source": [
    "# Vamos separar os conjuntos de teste e treino\n",
    "from sklearn.model_selection import train_test_split\n"
   ]
  },
  {
   "cell_type": "code",
   "execution_count": null,
   "id": "f7bbdc4e",
   "metadata": {},
   "outputs": [],
   "source": [
    "# Vamos treinar nosso modelo\n",
    "from sklearn.linear_model import LogisticRegression\n",
    "\n"
   ]
  },
  {
   "cell_type": "code",
   "execution_count": null,
   "id": "c5ff3831",
   "metadata": {},
   "outputs": [],
   "source": [
    "# Hora de colocar nosso modelo a prova e testar!\n"
   ]
  },
  {
   "cell_type": "code",
   "execution_count": null,
   "id": "e46e16e7",
   "metadata": {},
   "outputs": [],
   "source": []
  }
 ],
 "metadata": {
  "kernelspec": {
   "display_name": "Python 3 (ipykernel)",
   "language": "python",
   "name": "python3"
  },
  "language_info": {
   "codemirror_mode": {
    "name": "ipython",
    "version": 3
   },
   "file_extension": ".py",
   "mimetype": "text/x-python",
   "name": "python",
   "nbconvert_exporter": "python",
   "pygments_lexer": "ipython3",
   "version": "3.9.7"
  }
 },
 "nbformat": 4,
 "nbformat_minor": 5
}

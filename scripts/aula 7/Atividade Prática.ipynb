{
 "cells": [
  {
   "cell_type": "markdown",
   "id": "89af6532",
   "metadata": {},
   "source": [
    "# Análise descritiva dos dados\n",
    "\n",
    "Nessa atividade, você deve descrever o conjunto de dados a seguir. Cada célula contém perguntas que devem ser respondidas sobre o conjunto de dados.\n",
    "\n",
    "Bom trabalho!"
   ]
  },
  {
   "cell_type": "markdown",
   "id": "bf1abc5a",
   "metadata": {},
   "source": [
    "## Primeira parte\n",
    "\n",
    "Primeiramente vamos estudar um conjunto de dados conhecido como quarteto de Anscombe."
   ]
  },
  {
   "cell_type": "code",
   "execution_count": 11,
   "id": "0a398a80",
   "metadata": {},
   "outputs": [],
   "source": [
    "# Para essa atividade, vamos utilizar um conjunto de dados que está na biblioteca seaborn\n",
    "import seaborn as sns\n",
    "sns.set_theme(style=\"ticks\")\n",
    "\n",
    "anscombe = sns.load_dataset(\"anscombe\") # Essa variável contém nossos dados "
   ]
  },
  {
   "cell_type": "code",
   "execution_count": 12,
   "id": "10a16ebd",
   "metadata": {},
   "outputs": [],
   "source": [
    "# Realize uma análise descritiva dos dados\n",
    "# Deve conter as informações básicas do conjunto\n",
    "# Número de elementos\n",
    "# Nome e descrição das colunas\n",
    "# Estatística descritiva: média, desvio-padrão, correlação"
   ]
  },
  {
   "cell_type": "code",
   "execution_count": 15,
   "id": "cffa552a",
   "metadata": {},
   "outputs": [],
   "source": [
    "# O conjunto de dados está separado em datasets\n",
    "# O que cada dataset significa?\n",
    "# Realize a mesma análise anterior mas agora agrupando pela coluna dataset\n",
    "# O que é diferente em cada dataset?\n"
   ]
  },
  {
   "cell_type": "code",
   "execution_count": 16,
   "id": "4b00b3aa",
   "metadata": {},
   "outputs": [],
   "source": [
    "# Agora produza gráficos de linhas para cada dataset"
   ]
  },
  {
   "cell_type": "markdown",
   "id": "eb375654",
   "metadata": {},
   "source": [
    "## Segunda parte\n",
    "\n",
    "Nessa parte vamos estudar dois conjuntos de dados diferentes, que contém também duas colunas. "
   ]
  },
  {
   "cell_type": "code",
   "execution_count": 78,
   "id": "b9aca1b8",
   "metadata": {},
   "outputs": [],
   "source": [
    "import pandas as pd\n",
    "\n",
    "import numpy as np\n",
    "X = 2 * np.random.rand(100, 1)\n",
    "y = 4 + 3 * X + np.random.randn(100, 1)\n",
    "dados = np.array([X,y])\n",
    "dados = pd.DataFrame(np.array([X,y])[:,:,0])\n",
    "dados.T.to_excel('dataset_1.xlsx')"
   ]
  },
  {
   "cell_type": "code",
   "execution_count": null,
   "id": "b6124ad6",
   "metadata": {},
   "outputs": [],
   "source": [
    "m = 100\n",
    "X = 6 * np.random.rand(m, 1) - 3\n",
    "y = 0.5 * X**2 + X + 2 + np.random.randn(m, 1)\n",
    "\n",
    "dados = pd.DataFrame(np.array([X,y])[:,:,0])\n",
    "dados.T.to_excel('dataset_2.xlsx')"
   ]
  },
  {
   "cell_type": "code",
   "execution_count": 80,
   "id": "82e0e515",
   "metadata": {},
   "outputs": [],
   "source": [
    "# Os dados que vamos utilizar estão nos arquivos incluídos\n",
    "import pandas as pd\n",
    "\n",
    "dados_1 = pd.read_excel('dataset_1.xlsx')\n",
    "dados_2 = pd.read_excel('dataset_2.xlsx')"
   ]
  },
  {
   "cell_type": "code",
   "execution_count": 45,
   "id": "17abb93e",
   "metadata": {},
   "outputs": [],
   "source": [
    "# Realize uma análise descritiva dos dados\n",
    "# Deve conter as informações básicas do conjunto\n",
    "# Número de elementos\n",
    "# Nome e descrição das colunas\n",
    "# Estatística descritiva: média, desvio-padrão, correlação"
   ]
  },
  {
   "cell_type": "code",
   "execution_count": 70,
   "id": "fce70001",
   "metadata": {},
   "outputs": [
    {
     "name": "stderr",
     "output_type": "stream",
     "text": [
      "*c* argument looks like a single numeric RGB or RGBA sequence, which should be avoided as value-mapping will have precedence in case its length matches with *x* & *y*.  Please use the *color* keyword-argument or provide a 2D array with a single row if you intend to specify the same RGB or RGBA value for all points.\n"
     ]
    },
    {
     "data": {
      "text/plain": [
       "<AxesSubplot:xlabel='x', ylabel='y'>"
      ]
     },
     "execution_count": 70,
     "metadata": {},
     "output_type": "execute_result"
    },
    {
     "data": {
      "image/png": "[encoded data removed]",
      "text/plain": [
       "<Figure size 432x288 with 1 Axes>"
      ]
     },
     "metadata": {},
     "output_type": "display_data"
    }
   ],
   "source": [
    "# Agora produza gráficos de linhas para cada dataset\n",
    "dados_1.plot.scatter(x='x',y='y',grid=True)"
   ]
  },
  {
   "cell_type": "code",
   "execution_count": 88,
   "id": "80f461c7",
   "metadata": {},
   "outputs": [],
   "source": [
    "# Você acredita que exista uma relação linear entre x e y?\n",
    "# Como podemos medir isso?\n",
    "dados_1.corr()\n",
    "x = np.array(dados_1['x']).reshape(-1, 1)\n",
    "y = np.array(dados_1['y']).reshape(-1, 1)"
   ]
  },
  {
   "cell_type": "code",
   "execution_count": 89,
   "id": "3fd8a2be",
   "metadata": {},
   "outputs": [
    {
     "data": {
      "text/plain": [
       "(array([4.17822608]), array([[2.92908466]]))"
      ]
     },
     "execution_count": 89,
     "metadata": {},
     "output_type": "execute_result"
    }
   ],
   "source": [
    "# Como podemos prever um próximo resultado?\n",
    "from sklearn.linear_model import LinearRegression\n",
    "lin_reg = LinearRegression()\n",
    "lin_reg.fit(x,y)\n",
    "lin_reg.intercept_, lin_reg.coef_\n"
   ]
  },
  {
   "cell_type": "code",
   "execution_count": 93,
   "id": "5e71d655",
   "metadata": {},
   "outputs": [
    {
     "data": {
      "text/plain": [
       "[<matplotlib.lines.Line2D at 0x7f54b0fa80d0>]"
      ]
     },
     "execution_count": 93,
     "metadata": {},
     "output_type": "execute_result"
    },
    {
     "data": {
      "image/png": "[encoded data removed]",
      "text/plain": [
       "<Figure size 432x288 with 1 Axes>"
      ]
     },
     "metadata": {},
     "output_type": "display_data"
    }
   ],
   "source": [
    "import matplotlib.pyplot as plt\n",
    "X_new = np.array([[0], [2]])\n",
    "y_predict = lin_reg.predict(X_new)\n",
    "plt.plot(X_new, y_predict, \"r-\")\n",
    "plt.plot(X, y, \"b.\")"
   ]
  },
  {
   "cell_type": "code",
   "execution_count": 94,
   "id": "dc624821",
   "metadata": {},
   "outputs": [
    {
     "name": "stderr",
     "output_type": "stream",
     "text": [
      "*c* argument looks like a single numeric RGB or RGBA sequence, which should be avoided as value-mapping will have precedence in case its length matches with *x* & *y*.  Please use the *color* keyword-argument or provide a 2D array with a single row if you intend to specify the same RGB or RGBA value for all points.\n"
     ]
    },
    {
     "data": {
      "text/plain": [
       "<AxesSubplot:xlabel='x', ylabel='y'>"
      ]
     },
     "execution_count": 94,
     "metadata": {},
     "output_type": "execute_result"
    },
    {
     "data": {
      "image/png": "[encoded data removed]",
      "text/plain": [
       "<Figure size 432x288 with 1 Axes>"
      ]
     },
     "metadata": {},
     "output_type": "display_data"
    }
   ],
   "source": [
    "dados_2.plot.scatter(x='x',y='y',grid=True)"
   ]
  },
  {
   "cell_type": "code",
   "execution_count": null,
   "id": "029a4bce",
   "metadata": {},
   "outputs": [],
   "source": []
  }
 ],
 "metadata": {
  "kernelspec": {
   "display_name": "Python 3 (ipykernel)",
   "language": "python",
   "name": "python3"
  },
  "language_info": {
   "codemirror_mode": {
    "name": "ipython",
    "version": 3
   },
   "file_extension": ".py",
   "mimetype": "text/x-python",
   "name": "python",
   "nbconvert_exporter": "python",
   "pygments_lexer": "ipython3",
   "version": "3.9.7"
  }
 },
 "nbformat": 4,
 "nbformat_minor": 5
}

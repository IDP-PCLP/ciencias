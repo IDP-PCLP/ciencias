{
 "cells": [
  {
   "cell_type": "markdown",
   "id": "89af6532",
   "metadata": {},
   "source": [
    "# Análise descritiva dos dados\n",
    "\n",
    "Nessa atividade, você deve descrever o conjunto de dados a seguir. Cada célula contém perguntas que devem ser respondidas sobre o conjunto de dados.\n",
    "\n",
    "Bom trabalho!"
   ]
  },
  {
   "cell_type": "markdown",
   "id": "bf1abc5a",
   "metadata": {},
   "source": [
    "## Primeira parte\n",
    "\n",
    "Primeiramente vamos estudar um conjunto de dados conhecido como quarteto de Anscombe."
   ]
  },
  {
   "cell_type": "code",
   "execution_count": 11,
   "id": "0a398a80",
   "metadata": {},
   "outputs": [],
   "source": [
    "# Para essa atividade, vamos utilizar um conjunto de dados que está na biblioteca seaborn\n",
    "import seaborn as sns\n",
    "sns.set_theme(style=\"ticks\")\n",
    "\n",
    "anscombe = sns.load_dataset(\"anscombe\") # Essa variável contém nossos dados "
   ]
  },
  {
   "cell_type": "code",
   "execution_count": 12,
   "id": "10a16ebd",
   "metadata": {},
   "outputs": [],
   "source": [
    "# Realize uma análise descritiva dos dados\n",
    "# Deve conter as informações básicas do conjunto\n",
    "# Número de elementos\n",
    "# Nome e descrição das colunas\n",
    "# Estatística descritiva: média, desvio-padrão, correlação"
   ]
  },
  {
   "cell_type": "code",
   "execution_count": 15,
   "id": "cffa552a",
   "metadata": {},
   "outputs": [],
   "source": [
    "# O conjunto de dados está separado em datasets\n",
    "# O que cada dataset significa?\n",
    "# Realize a mesma análise anterior mas agora agrupando pela coluna dataset\n",
    "# O que é diferente em cada dataset?\n"
   ]
  },
  {
   "cell_type": "code",
   "execution_count": 16,
   "id": "4b00b3aa",
   "metadata": {},
   "outputs": [],
   "source": [
    "# Agora produza gráficos de linhas para cada dataset"
   ]
  },
  {
   "cell_type": "markdown",
   "id": "eb375654",
   "metadata": {},
   "source": [
    "## Segunda parte\n",
    "\n",
    "Nessa parte vamos estudar dois conjuntos de dados diferentes, que contém também duas colunas. "
   ]
  },
  {
   "cell_type": "code",
   "execution_count": 80,
   "id": "82e0e515",
   "metadata": {},
   "outputs": [],
   "source": [
    "# Os dados que vamos utilizar estão nos arquivos incluídos\n",
    "import pandas as pd\n",
    "\n",
    "dados_1 = pd.read_excel('dataset_1.xlsx')\n",
    "dados_2 = pd.read_excel('dataset_2.xlsx')"
   ]
  },
  {
   "cell_type": "code",
   "execution_count": 45,
   "id": "17abb93e",
   "metadata": {},
   "outputs": [],
   "source": [
    "# Realize uma análise descritiva dos dados\n",
    "# Deve conter as informações básicas do conjunto\n",
    "# Número de elementos\n",
    "# Nome e descrição das colunas\n",
    "# Estatística descritiva: média, desvio-padrão, correlação"
   ]
  },
  {
   "cell_type": "code",
   "execution_count": 1,
   "id": "fce70001",
   "metadata": {},
   "outputs": [],
   "source": [
    "# Agora produza gráficos de linhas para cada dataset\n"
   ]
  },
  {
   "cell_type": "code",
   "execution_count": 88,
   "id": "80f461c7",
   "metadata": {},
   "outputs": [],
   "source": [
    "# Você acredita que exista uma relação linear entre x e y?\n",
    "# Como podemos medir isso?"
   ]
  },
  {
   "cell_type": "code",
   "execution_count": 2,
   "id": "3fd8a2be",
   "metadata": {},
   "outputs": [],
   "source": [
    "# Como podemos prever um próximo resultado?\n"
   ]
  }
 ],
 "metadata": {
  "kernelspec": {
   "display_name": "Python 3 (ipykernel)",
   "language": "python",
   "name": "python3"
  },
  "language_info": {
   "codemirror_mode": {
    "name": "ipython",
    "version": 3
   },
   "file_extension": ".py",
   "mimetype": "text/x-python",
   "name": "python",
   "nbconvert_exporter": "python",
   "pygments_lexer": "ipython3",
   "version": "3.9.7"
  }
 },
 "nbformat": 4,
 "nbformat_minor": 5
}
